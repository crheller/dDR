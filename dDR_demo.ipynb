{
 "cells": [
  {
   "cell_type": "markdown",
   "metadata": {},
   "source": [
    "# dDR demo"
   ]
  },
  {
   "cell_type": "code",
   "execution_count": null,
   "metadata": {},
   "outputs": [],
   "source": [
    "import numpy as np\n",
    "import matplotlib.pyplot as plt\n",
    "from sklearn.decomposition import PCA\n",
    "from itertools import combinations\n",
    "\n",
    "from dDR.dDR import dDR\n",
    "from utils.plotting import plot_stim_pair_dDR"
   ]
  },
  {
   "cell_type": "markdown",
   "metadata": {},
   "source": [
    "### Build / plot simulated dataset\n",
    "* 100 neurons, 50 repetitions, 4 stimuli\n",
    "* One latent, simulus-independent, noise dimension"
   ]
  },
  {
   "cell_type": "code",
   "execution_count": null,
   "metadata": {},
   "outputs": [],
   "source": [
    "# set data data dimensions\n",
    "N, R, S = 100, 50, 4\n",
    "\n",
    "# Build rank 1 covariance matrix\n",
    "lv = np.abs(np.random.normal(0, 1, (N, 1)))\n",
    "lv /= np.linalg.norm(lv)\n",
    "cov = lv.dot(lv.T)\n",
    "\n",
    "# add small random noise to covariance matrix to make full rank\n",
    "cov += np.random.normal(0, 0.01, cov.shape)\n",
    "\n",
    "# define a dummy stimulus response -- each neuron responds different to each stimulus -- \n",
    "# somewhat aligned with the noise\n",
    "sdrive = np.abs(np.random.normal(lv, 0.1, (N, S))).T # different \"best\" stimulus for each unit\n",
    "\n",
    "# create data set from multivariate gaussian (neuron x rep x stimulus)\n",
    "X = []\n",
    "for s in range(S):  \n",
    "    # get mean response to stimulus for each neuron\n",
    "    u = sdrive[s, :]\n",
    "    X.append(np.random.multivariate_normal(u, cov=cov, size=(R)))\n",
    "X = np.stack(X).transpose([-1, 1, 0])"
   ]
  },
  {
   "cell_type": "markdown",
   "metadata": {},
   "source": [
    "Plot the data"
   ]
  },
  {
   "cell_type": "code",
   "execution_count": null,
   "metadata": {},
   "outputs": [],
   "source": [
    "f = plt.figure(figsize=(12, 6))\n",
    "\n",
    "rd = plt.subplot2grid((2, 2), (0, 0), colspan=2)\n",
    "Sscree = plt.subplot2grid((2, 2), (1, 0))\n",
    "Nscree = plt.subplot2grid((2, 2), (1, 1))\n",
    "\n",
    "# plot the data (mean responses)\n",
    "rd.imshow(X.reshape(N, -1), aspect='auto', cmap='Greys', vmin=0)\n",
    "rd.set_xlabel('Time')\n",
    "rd.set_ylabel('Neuron')\n",
    "rd.set_title('Raw Activity')\n",
    "\n",
    "# scree plot of the stimulus space\n",
    "Xu = X.mean(axis=1, keepdims=True)\n",
    "pca = PCA()\n",
    "pca.fit(Xu.squeeze().T)\n",
    "Sscree.bar(np.arange(pca.components_.shape[0]), pca.explained_variance_ratio_, \n",
    "                width=0.5, edgecolor='white')\n",
    "Sscree.set_title(\"Stimulus Space\\n(trial-averaged activity)\")\n",
    "Sscree.set_ylabel(\"Variance explained\")\n",
    "Sscree.set_xlabel(\"Principal components\")\n",
    "\n",
    "# scree plot of noise space\n",
    "Xcenter = X - Xu\n",
    "pca = PCA()\n",
    "pca.fit(Xcenter.reshape(N, -1).T)\n",
    "Nscree.bar(np.arange(pca.components_.shape[0]), pca.explained_variance_ratio_, \n",
    "                width=1, edgecolor='white')\n",
    "Nscree.set_title(\"Noise Space\\n(singe-trial activity)\")\n",
    "Nscree.set_ylabel(\"Variance explained\")\n",
    "Nscree.set_xlabel(\"Principal components\")\n",
    "\n",
    "f.tight_layout()"
   ]
  },
  {
   "cell_type": "markdown",
   "metadata": {},
   "source": [
    "### Perform dDR\n",
    "* reduce dimensionality of the dataset for each stimulus pair to n=2\n",
    "* plot each pair of stimuli"
   ]
  },
  {
   "cell_type": "code",
   "execution_count": null,
   "metadata": {},
   "outputs": [],
   "source": [
    "# TODO - add plot of true/dDR fit latent variable / dU to each axis\n",
    "# TODO - fit the dDR using cross-validation\n",
    "\n",
    "stim_pairs = list(combinations(np.arange(S), 2))\n",
    "f, ax = plt.subplots(2, 3, figsize=(12, 8))\n",
    "for sp, a in zip(stim_pairs, ax.flatten()):\n",
    "    ddr = dDR()\n",
    "    A, B = ddr.fit_transform(X[:, :, sp[0]].T, X[:, :, sp[1]].T)\n",
    "    \n",
    "    # plot data\n",
    "    plot_stim_pair_dDR(A, B, lab1=f\"S{sp[0]}\", lab2=f\"S{sp[1]}\", s=5, ax=a)\n",
    "    a.legend(frameon=False)\n",
    "    "
   ]
  },
  {
   "cell_type": "code",
   "execution_count": null,
   "metadata": {},
   "outputs": [],
   "source": []
  }
 ],
 "metadata": {
  "language_info": {
   "codemirror_mode": {
    "name": "ipython",
    "version": 3
   },
   "file_extension": ".py",
   "mimetype": "text/x-python",
   "name": "python",
   "nbconvert_exporter": "python",
   "pygments_lexer": "ipython3",
   "version": 3
  },
  "orig_nbformat": 2,
  "kernelspec": {
   "name": "python_defaultSpec_1614483017670",
   "display_name": "Python 3.7.9 64-bit ('lbhb': conda)"
  }
 },
 "nbformat": 4,
 "nbformat_minor": 2
}